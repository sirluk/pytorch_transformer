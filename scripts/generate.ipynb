{
 "cells": [
  {
   "cell_type": "code",
   "execution_count": 2,
   "metadata": {},
   "outputs": [],
   "source": [
    "import numpy as np\n",
    "import json\n",
    "import os\n",
    "from collections import defaultdict\n",
    "from tqdm.notebook import tqdm\n",
    "import json\n",
    "import re\n",
    "import math\n",
    "from functools import partial\n",
    "from itertools import repeat\n",
    "from multiprocessing import Pool\n",
    "import pickle\n",
    "import matplotlib.pyplot as plt\n",
    "import matplotlib.patches as mpatches\n",
    "import seaborn as sns"
   ]
  },
  {
   "cell_type": "code",
   "execution_count": null,
   "metadata": {},
   "outputs": [],
   "source": [
    "prompt = \"Austria emerged from the remnants of the Eastern and Hungarian March at the end of the first millennium. Originally a margraviate of Bavaria, it developed into a duchy of the Holy Roman Empire in 1156 and was later made an archduchy in 1453. In the 16th\""
   ]
  },
  {
   "cell_type": "code",
   "execution_count": null,
   "metadata": {},
   "outputs": [],
   "source": [
    "x = tokenizer.encode(prompt)"
   ]
  },
  {
   "cell_type": "code",
   "execution_count": 20,
   "metadata": {},
   "outputs": [],
   "source": [
    "x = torch.tensor(x).unsqueeze(0)"
   ]
  },
  {
   "cell_type": "code",
   "execution_count": 29,
   "metadata": {},
   "outputs": [],
   "source": [
    "y = model.generate(x, 30, temperature=0.8, top_k=10)"
   ]
  },
  {
   "cell_type": "code",
   "execution_count": 30,
   "metadata": {},
   "outputs": [
    {
     "data": {
      "text/plain": [
       "tensor([[17362, 11176,  3192,   515,   278,  1083, 29876,  1934,   310,   278,\n",
       "         16162,   322, 14198, 13956,  4779,   472,   278,  1095,   310,   278,\n",
       "           937,  3533,   264,  1240,   398, 29889, 22118,   635,   263, 15276,\n",
       "           336,  1403,   403,   310, 24311,  4568, 29892,   372,  8906,   964,\n",
       "           263,   868, 23766,   310,   278, 17733,  5917, 13378,   297, 29871,\n",
       "         29896, 29896, 29945, 29953,   322,   471,  2678,  1754,   385,  3190,\n",
       "           700, 23766,   297, 29871, 29896, 29946, 29945, 29941, 29889,   512,\n",
       "           278, 29871, 29896, 29953,   386,  6462, 29892,   372,  3897,   263,\n",
       "         23925,   297,   278, 16162, 25620, 10800,   273, 29892,   541,   372,\n",
       "           471,   451,  2745,   278,  1095,   310,  2787,  3362,  1944,   393,\n",
       "           372,  3897,   278,  7483,   310]])"
      ]
     },
     "execution_count": 30,
     "metadata": {},
     "output_type": "execute_result"
    }
   ],
   "source": [
    "y"
   ]
  }
 ],
 "metadata": {
  "kernelspec": {
   "display_name": "sparse_transformers",
   "language": "python",
   "name": "python3"
  },
  "language_info": {
   "codemirror_mode": {
    "name": "ipython",
    "version": 3
   },
   "file_extension": ".py",
   "mimetype": "text/x-python",
   "name": "python",
   "nbconvert_exporter": "python",
   "pygments_lexer": "ipython3",
   "version": "3.12.1"
  }
 },
 "nbformat": 4,
 "nbformat_minor": 2
}
